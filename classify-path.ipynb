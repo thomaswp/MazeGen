{
 "cells": [
  {
   "cell_type": "markdown",
   "metadata": {
    "id": "m7KBpffWzlxH"
   },
   "source": [
    "### Import TensorFlow"
   ]
  },
  {
   "cell_type": "code",
   "execution_count": 1,
   "metadata": {
    "id": "iAve6DCL4JH4"
   },
   "outputs": [],
   "source": [
    "import tensorflow as tf\n",
    "\n",
    "from tensorflow.keras import datasets, layers, models\n",
    "import matplotlib.pyplot as plt"
   ]
  },
  {
   "cell_type": "code",
   "execution_count": 2,
   "metadata": {},
   "outputs": [],
   "source": [
    "physical_devices = tf.config.list_physical_devices('GPU') \n",
    "for device in physical_devices:\n",
    "    tf.config.experimental.set_memory_growth(device, True)"
   ]
  },
  {
   "cell_type": "markdown",
   "metadata": {
    "id": "jRFxccghyMVo"
   },
   "source": [
    "### Download and prepare the CIFAR10 dataset\n",
    "\n",
    "\n",
    "The CIFAR10 dataset contains 60,000 color images in 10 classes, with 6,000 images in each class. The dataset is divided into 50,000 training images and 10,000 testing images. The classes are mutually exclusive and there is no overlap between them."
   ]
  },
  {
   "cell_type": "code",
   "execution_count": 3,
   "metadata": {},
   "outputs": [],
   "source": [
    "import numpy as np\n",
    "\n",
    "file = open('data/train_path_X_10000.data', 'rb')\n",
    "train_X = np.load(file)\n",
    "file.close()\n",
    "\n",
    "file = open('data/train_Y_10000.data', 'rb')\n",
    "train_Y = np.load(file)\n",
    "file.close()\n",
    "\n",
    "file = open('data/test_path_X_2000.data', 'rb')\n",
    "test_X = np.load(file)\n",
    "file.close()\n",
    "\n",
    "file = open('data/test_Y_2000.data', 'rb')\n",
    "test_Y = np.load(file)\n",
    "file.close()"
   ]
  },
  {
   "cell_type": "markdown",
   "metadata": {
    "id": "7wArwCTJJlUa"
   },
   "source": [
    "### Verify the data\n",
    "\n",
    "To verify that the dataset looks correct, let's plot the first 25 images from the training set and display the class name below each image:\n"
   ]
  },
  {
   "cell_type": "code",
   "execution_count": 4,
   "metadata": {},
   "outputs": [
    {
     "data": {
      "text/plain": [
       "(10000, 142, 36)"
      ]
     },
     "execution_count": 4,
     "metadata": {},
     "output_type": "execute_result"
    }
   ],
   "source": [
    "train_X.shape"
   ]
  },
  {
   "cell_type": "code",
   "execution_count": 5,
   "metadata": {},
   "outputs": [
    {
     "data": {
      "text/plain": [
       "(10000,)"
      ]
     },
     "execution_count": 5,
     "metadata": {},
     "output_type": "execute_result"
    }
   ],
   "source": [
    "train_Y.shape"
   ]
  },
  {
   "cell_type": "code",
   "execution_count": 6,
   "metadata": {},
   "outputs": [
    {
     "data": {
      "text/plain": [
       "(2000, 136, 36)"
      ]
     },
     "execution_count": 6,
     "metadata": {},
     "output_type": "execute_result"
    }
   ],
   "source": [
    "test_X.shape"
   ]
  },
  {
   "cell_type": "code",
   "execution_count": 7,
   "metadata": {
    "scrolled": true
   },
   "outputs": [
    {
     "data": {
      "text/plain": [
       "(2000,)"
      ]
     },
     "execution_count": 7,
     "metadata": {},
     "output_type": "execute_result"
    }
   ],
   "source": [
    "test_Y.shape"
   ]
  },
  {
   "cell_type": "code",
   "execution_count": 62,
   "metadata": {},
   "outputs": [],
   "source": [
    "length_pad = 150\n",
    "l_data = 36\n",
    "assert train_X.shape[1] <= length_pad\n",
    "assert test_X.shape[1] <= length_pad"
   ]
  },
  {
   "cell_type": "code",
   "execution_count": 9,
   "metadata": {},
   "outputs": [
    {
     "name": "stdout",
     "output_type": "stream",
     "text": [
      "(10000, 150, 36)\n",
      "(2000, 150, 36)\n"
     ]
    }
   ],
   "source": [
    "train_X = np.pad(train_X, ((0,0), (0, length_pad - train_X.shape[1]), (0, 0)))\n",
    "test_X = np.pad(test_X, ((0,0), (0, length_pad - test_X.shape[1]), (0, 0)))\n",
    "\n",
    "print(train_X.shape)\n",
    "print(test_X.shape)"
   ]
  },
  {
   "cell_type": "markdown",
   "metadata": {
    "id": "Oewp-wYg31t9"
   },
   "source": [
    "### Create the convolutional base"
   ]
  },
  {
   "cell_type": "markdown",
   "metadata": {
    "id": "3hQvqXpNyN3x"
   },
   "source": [
    "The 6 lines of code below define the convolutional base using a common pattern: a stack of [Conv2D](https://www.tensorflow.org/api_docs/python/tf/keras/layers/Conv2D) and [MaxPooling2D](https://www.tensorflow.org/api_docs/python/tf/keras/layers/MaxPool2D) layers.\n",
    "\n",
    "As input, a CNN takes tensors of shape (image_height, image_width, color_channels), ignoring the batch size. If you are new to these dimensions, color_channels refers to (R,G,B). In this example, you will configure your CNN to process inputs of shape (32, 32, 3), which is the format of CIFAR images. You can do this by passing the argument `input_shape` to your first layer.\n"
   ]
  },
  {
   "cell_type": "code",
   "execution_count": 87,
   "metadata": {
    "id": "L9YmGQBQPrdn"
   },
   "outputs": [],
   "source": [
    "model = tf.keras.models.Sequential([\n",
    "    # Shape [batch, time, features] => [batch, time, lstm_units]\n",
    "    tf.keras.layers.LSTM(32, return_sequences=False),\n",
    "#     tf.keras.layers.Reshape((length_pad * l_data,)),\n",
    "    # Shape => [batch, time, features]\n",
    "#     tf.keras.layers.Dense(units=10),\n",
    "    tf.keras.layers.Dense(units=1)\n",
    "])\n",
    "model.build(input_shape = (None, length_pad, l_data))"
   ]
  },
  {
   "cell_type": "markdown",
   "metadata": {
    "id": "ipGiQMcR4Gtq"
   },
   "source": [
    "Here's the complete architecture of your model:"
   ]
  },
  {
   "cell_type": "code",
   "execution_count": 88,
   "metadata": {
    "id": "8Yu_m-TZUWGX",
    "scrolled": true
   },
   "outputs": [
    {
     "name": "stdout",
     "output_type": "stream",
     "text": [
      "Model: \"sequential_13\"\n",
      "_________________________________________________________________\n",
      "Layer (type)                 Output Shape              Param #   \n",
      "=================================================================\n",
      "lstm_9 (LSTM)                (None, 32)                8832      \n",
      "_________________________________________________________________\n",
      "dense_15 (Dense)             (None, 1)                 33        \n",
      "=================================================================\n",
      "Total params: 8,865\n",
      "Trainable params: 8,865\n",
      "Non-trainable params: 0\n",
      "_________________________________________________________________\n"
     ]
    }
   ],
   "source": [
    "model.summary()"
   ]
  },
  {
   "cell_type": "code",
   "execution_count": 89,
   "metadata": {},
   "outputs": [
    {
     "data": {
      "text/plain": [
       "(5, 150, 36)"
      ]
     },
     "execution_count": 89,
     "metadata": {},
     "output_type": "execute_result"
    }
   ],
   "source": [
    "train_X[0:5].shape"
   ]
  },
  {
   "cell_type": "code",
   "execution_count": 90,
   "metadata": {},
   "outputs": [
    {
     "data": {
      "text/plain": [
       "TensorShape([5, 1])"
      ]
     },
     "execution_count": 90,
     "metadata": {},
     "output_type": "execute_result"
    }
   ],
   "source": [
    "test_output = model(train_X[0:5])\n",
    "test_output.shape"
   ]
  },
  {
   "cell_type": "markdown",
   "metadata": {
    "id": "P3odqfHP4M67"
   },
   "source": [
    "### Compile and train the model"
   ]
  },
  {
   "cell_type": "code",
   "execution_count": 91,
   "metadata": {},
   "outputs": [],
   "source": [
    "from tensorflow.keras.metrics import mean_squared_error\n",
    "\n",
    "class LSTM_MSE(tf.keras.losses.Loss):\n",
    "    def __init__(self):\n",
    "        super().__init__()\n",
    "    def call(self, y_true, y_pred):\n",
    "        print (y_pred.shape)\n",
    "        final_pred = tf.slice(y_pred, [0, y_pred.shape[1] - 1, 0], [y_pred.shape[0], 1, 1])\n",
    "        mse = mean_squared_error(y_true, final_pred)\n",
    "        return tf.reduce_mean(mse)"
   ]
  },
  {
   "cell_type": "code",
   "execution_count": 92,
   "metadata": {
    "id": "MdDzI75PUXrG"
   },
   "outputs": [
    {
     "name": "stdout",
     "output_type": "stream",
     "text": [
      "Epoch 1/30\n",
      "313/313 [==============================] - 4s 8ms/step - loss: 7196.0657 - mean_squared_error: 7196.0657 - val_loss: 5363.7041 - val_mean_squared_error: 5363.7041\n",
      "Epoch 2/30\n",
      "313/313 [==============================] - 2s 6ms/step - loss: 5126.5510 - mean_squared_error: 5126.5510 - val_loss: 4080.2776 - val_mean_squared_error: 4080.2776\n",
      "Epoch 3/30\n",
      "313/313 [==============================] - 2s 6ms/step - loss: 3915.8198 - mean_squared_error: 3915.8198 - val_loss: 3088.2463 - val_mean_squared_error: 3088.2463\n",
      "Epoch 4/30\n",
      "313/313 [==============================] - 2s 6ms/step - loss: 2971.9225 - mean_squared_error: 2971.9225 - val_loss: 2321.3105 - val_mean_squared_error: 2321.3105\n",
      "Epoch 5/30\n",
      "313/313 [==============================] - 2s 6ms/step - loss: 2261.1563 - mean_squared_error: 2261.1563 - val_loss: 1739.3192 - val_mean_squared_error: 1739.3192\n",
      "Epoch 6/30\n",
      "313/313 [==============================] - 2s 6ms/step - loss: 1699.3809 - mean_squared_error: 1699.3809 - val_loss: 1310.0238 - val_mean_squared_error: 1310.0238\n",
      "Epoch 7/30\n",
      "313/313 [==============================] - 2s 6ms/step - loss: 1274.7186 - mean_squared_error: 1274.7186 - val_loss: 1004.1583 - val_mean_squared_error: 1004.1583\n",
      "Epoch 8/30\n",
      "313/313 [==============================] - 2s 6ms/step - loss: 966.5966 - mean_squared_error: 966.5966 - val_loss: 796.8116 - val_mean_squared_error: 796.8116\n",
      "Epoch 9/30\n",
      "313/313 [==============================] - 2s 6ms/step - loss: 789.5755 - mean_squared_error: 789.5755 - val_loss: 665.5631 - val_mean_squared_error: 665.5631\n",
      "Epoch 10/30\n",
      "313/313 [==============================] - 2s 6ms/step - loss: 658.8961 - mean_squared_error: 658.8961 - val_loss: 588.5427 - val_mean_squared_error: 588.5427\n",
      "Epoch 11/30\n",
      "313/313 [==============================] - 2s 6ms/step - loss: 596.0411 - mean_squared_error: 596.0411 - val_loss: 548.0900 - val_mean_squared_error: 548.0900\n",
      "Epoch 12/30\n",
      "313/313 [==============================] - 2s 6ms/step - loss: 556.5192 - mean_squared_error: 556.5192 - val_loss: 529.8503 - val_mean_squared_error: 529.8503\n",
      "Epoch 13/30\n",
      "313/313 [==============================] - 2s 6ms/step - loss: 540.1533 - mean_squared_error: 540.1533 - val_loss: 523.2728 - val_mean_squared_error: 523.2728\n",
      "Epoch 14/30\n",
      "313/313 [==============================] - 2s 6ms/step - loss: 529.2116 - mean_squared_error: 529.2116 - val_loss: 521.7403 - val_mean_squared_error: 521.7403\n",
      "Epoch 15/30\n",
      "313/313 [==============================] - 2s 6ms/step - loss: 533.6782 - mean_squared_error: 533.6782 - val_loss: 521.8127 - val_mean_squared_error: 521.8127\n",
      "Epoch 16/30\n",
      "313/313 [==============================] - 2s 6ms/step - loss: 512.9579 - mean_squared_error: 512.9579 - val_loss: 522.2155 - val_mean_squared_error: 522.2155\n",
      "Epoch 17/30\n",
      "313/313 [==============================] - 2s 6ms/step - loss: 530.0472 - mean_squared_error: 530.0472 - val_loss: 522.4320 - val_mean_squared_error: 522.4320\n",
      "Epoch 18/30\n",
      "313/313 [==============================] - 2s 6ms/step - loss: 521.2445 - mean_squared_error: 521.2445 - val_loss: 522.5897 - val_mean_squared_error: 522.5897\n",
      "Epoch 19/30\n",
      "313/313 [==============================] - 2s 6ms/step - loss: 509.0728 - mean_squared_error: 509.0728 - val_loss: 522.5551 - val_mean_squared_error: 522.5551\n",
      "Epoch 20/30\n",
      "313/313 [==============================] - 2s 6ms/step - loss: 526.3070 - mean_squared_error: 526.3070 - val_loss: 522.6513 - val_mean_squared_error: 522.6513\n",
      "Epoch 21/30\n",
      "313/313 [==============================] - 2s 6ms/step - loss: 520.5945 - mean_squared_error: 520.5945 - val_loss: 522.4313 - val_mean_squared_error: 522.4313\n",
      "Epoch 22/30\n",
      "313/313 [==============================] - 2s 6ms/step - loss: 521.1127 - mean_squared_error: 521.1127 - val_loss: 522.5136 - val_mean_squared_error: 522.5136\n",
      "Epoch 23/30\n",
      "313/313 [==============================] - 2s 6ms/step - loss: 518.4169 - mean_squared_error: 518.4169 - val_loss: 522.9186 - val_mean_squared_error: 522.9186\n",
      "Epoch 24/30\n",
      "313/313 [==============================] - 2s 6ms/step - loss: 526.3271 - mean_squared_error: 526.3271 - val_loss: 522.6568 - val_mean_squared_error: 522.6568\n",
      "Epoch 25/30\n",
      "313/313 [==============================] - 2s 6ms/step - loss: 513.3118 - mean_squared_error: 513.3118 - val_loss: 522.5977 - val_mean_squared_error: 522.5977\n",
      "Epoch 26/30\n",
      "313/313 [==============================] - 2s 6ms/step - loss: 518.0476 - mean_squared_error: 518.0476 - val_loss: 522.4540 - val_mean_squared_error: 522.4540\n",
      "Epoch 27/30\n",
      "313/313 [==============================] - 2s 6ms/step - loss: 514.3415 - mean_squared_error: 514.3415 - val_loss: 522.5834 - val_mean_squared_error: 522.5834\n",
      "Epoch 28/30\n",
      "313/313 [==============================] - 2s 6ms/step - loss: 529.4535 - mean_squared_error: 529.4535 - val_loss: 522.6967 - val_mean_squared_error: 522.6967\n",
      "Epoch 29/30\n",
      "313/313 [==============================] - 2s 6ms/step - loss: 521.8314 - mean_squared_error: 521.8314 - val_loss: 523.3478 - val_mean_squared_error: 523.3478\n",
      "Epoch 30/30\n",
      "313/313 [==============================] - 2s 6ms/step - loss: 509.5768 - mean_squared_error: 509.5768 - val_loss: 522.2330 - val_mean_squared_error: 522.2330\n"
     ]
    }
   ],
   "source": [
    "model.compile(optimizer='adam',\n",
    "              loss=tf.keras.losses.MeanSquaredError(),\n",
    "              metrics=['mean_squared_error'])\n",
    "\n",
    "history = model.fit(train_X, train_Y, epochs=30,\n",
    "              validation_data=(test_X, test_Y))"
   ]
  },
  {
   "cell_type": "markdown",
   "metadata": {
    "id": "jKgyC5K_4O0d"
   },
   "source": [
    "### Evaluate the model"
   ]
  },
  {
   "cell_type": "code",
   "execution_count": 86,
   "metadata": {
    "id": "gtyDF0MKUcM7"
   },
   "outputs": [
    {
     "data": {
      "image/png": "[encoded data removed]",
      "text/plain": [
       "<Figure size 432x288 with 1 Axes>"
      ]
     },
     "metadata": {
      "needs_background": "light"
     },
     "output_type": "display_data"
    },
    {
     "name": "stdout",
     "output_type": "stream",
     "text": [
      "63/63 - 0s - loss: 411.6484 - mean_squared_error: 411.6484\n"
     ]
    }
   ],
   "source": [
    "plt.plot(history.history['mean_squared_error'], label='mean_squared_error')\n",
    "plt.plot(history.history['val_mean_squared_error'], label = 'val_mean_squared_error')\n",
    "plt.xlabel('Epoch')\n",
    "plt.ylabel('MSE')\n",
    "plt.ylim([100, 400])\n",
    "plt.legend(loc='lower right')\n",
    "plt.show()\n",
    "\n",
    "test_loss, test_acc = model.evaluate(test_X,  test_Y, verbose=2)"
   ]
  },
  {
   "cell_type": "code",
   "execution_count": 77,
   "metadata": {
    "id": "0LvwaKhtUdOo"
   },
   "outputs": [
    {
     "name": "stdout",
     "output_type": "stream",
     "text": [
      "19.401963502288645\n"
     ]
    }
   ],
   "source": [
    "import math\n",
    "print(math.sqrt(test_acc))"
   ]
  },
  {
   "cell_type": "markdown",
   "metadata": {
    "id": "8cfJ8AR03gT5"
   },
   "source": [
    "Your simple CNN has achieved a test accuracy of over 70%. Not bad for a few lines of code! For another CNN style, check out the [TensorFlow 2 quickstart for experts](https://www.tensorflow.org/tutorials/quickstart/advanced) example that uses the Keras subclassing API and `tf.GradientTape`."
   ]
  },
  {
   "cell_type": "code",
   "execution_count": 17,
   "metadata": {},
   "outputs": [
    {
     "name": "stdout",
     "output_type": "stream",
     "text": [
      "INFO:tensorflow:Assets written to: models/scorer_1.model\\assets\n"
     ]
    }
   ],
   "source": [
    "iteration = 1\n",
    "model.save(f'models/scorer_{iteration}.model')"
   ]
  },
  {
   "cell_type": "code",
   "execution_count": null,
   "metadata": {},
   "outputs": [],
   "source": []
  }
 ],
 "metadata": {
  "accelerator": "GPU",
  "colab": {
   "collapsed_sections": [],
   "name": "cnn.ipynb",
   "toc_visible": true
  },
  "kernelspec": {
   "display_name": "Python 3",
   "language": "python",
   "name": "python3"
  },
  "language_info": {
   "codemirror_mode": {
    "name": "ipython",
    "version": 3
   },
   "file_extension": ".py",
   "mimetype": "text/x-python",
   "name": "python",
   "nbconvert_exporter": "python",
   "pygments_lexer": "ipython3",
   "version": "3.8.5"
  }
 },
 "nbformat": 4,
 "nbformat_minor": 1
}
