{
 "cells": [
  {
   "cell_type": "code",
   "execution_count": 1,
   "metadata": {},
   "outputs": [],
   "source": [
    "from pathfinding.core.diagonal_movement import DiagonalMovement\n",
    "from pathfinding.core.grid import Grid\n",
    "from pathfinding.finder.a_star import AStarFinder\n",
    "\n",
    "import random"
   ]
  },
  {
   "cell_type": "code",
   "execution_count": 2,
   "metadata": {
    "scrolled": false
   },
   "outputs": [
    {
     "data": {
      "text/plain": [
       "[(0, 0), (0, 1), (0, 2), (1, 2), (2, 2)]"
      ]
     },
     "execution_count": 2,
     "metadata": {},
     "output_type": "execute_result"
    }
   ],
   "source": [
    "def find_path(matrix, start_xy, end_xy):\n",
    "    grid = Grid(matrix=matrix)\n",
    "    start = grid.node(start_xy[0], start_xy[1])\n",
    "    end = grid.node(end_xy[0], end_xy[1])\n",
    "    finder = AStarFinder(diagonal_movement=DiagonalMovement.never)\n",
    "    path, runs = finder.find_path(start, end, grid)\n",
    "#     print(path)\n",
    "#     print(grid.grid_str(path=path, start=start, end=end))\n",
    "    return path\n",
    "\n",
    "matrix = [\n",
    "  [1, 1, 1],\n",
    "  [1, 0, 0],\n",
    "  [1, 1, 1]\n",
    "]\n",
    "\n",
    "\n",
    "find_path(matrix, [0, 0], [2, 2])\n",
    "\n",
    "# finder = AStarFinder(diagonal_movement=DiagonalMovement.always)\n",
    "# path, runs = finder.find_path(start, end, grid)\n",
    "\n",
    "# print('operations:', runs, 'path length:', len(path))\n",
    "# print(grid.grid_str(path=path, start=start, end=end))"
   ]
  },
  {
   "cell_type": "code",
   "execution_count": 3,
   "metadata": {},
   "outputs": [],
   "source": [
    "WIDTH = 16\n",
    "HEIGHT = 16\n",
    "GOALS = [[1, 1], [WIDTH // 2, HEIGHT - 2], [WIDTH - 2, 1]]\n",
    "\n",
    "CENTER = [WIDTH // 2, HEIGHT // 2]\n",
    "CENTER_RAD = 3\n",
    "TOWER_RANGE = 2\n",
    "BLOCK_PENALTY = -1"
   ]
  },
  {
   "cell_type": "code",
   "execution_count": 4,
   "metadata": {
    "scrolled": true
   },
   "outputs": [
    {
     "data": {
      "text/plain": [
       "[[1, 1, 0, 1, 1, 1, 1, 0, 1, 1, 0, 1, 1, 1, 1, 0],\n",
       " [0, 1, 0, 1, 1, 0, 1, 1, 1, 0, 1, 1, 1, 1, 1, 1],\n",
       " [1, 1, 1, 1, 0, 1, 0, 0, 1, 1, 0, 1, 0, 1, 0, 1],\n",
       " [1, 1, 0, 1, 0, 1, 1, 0, 0, 1, 0, 1, 0, 1, 1, 1],\n",
       " [1, 1, 1, 1, 1, 1, 1, 1, 1, 1, 0, 0, 1, 0, 1, 1],\n",
       " [1, 1, 1, 1, 1, 1, 1, 0, 1, 1, 0, 1, 1, 1, 1, 0],\n",
       " [1, 0, 1, 0, 1, 0, 1, 1, 1, 1, 0, 1, 0, 1, 1, 1],\n",
       " [1, 1, 1, 1, 1, 1, 1, 1, 0, 1, 1, 1, 1, 1, 1, 1],\n",
       " [1, 0, 1, 1, 1, 0, 1, 0, 1, 1, 1, 0, 1, 1, 1, 1],\n",
       " [1, 1, 1, 1, 1, 1, 1, 1, 1, 1, 0, 1, 1, 1, 1, 0],\n",
       " [1, 1, 1, 1, 0, 1, 1, 1, 0, 1, 0, 1, 1, 1, 1, 1],\n",
       " [1, 1, 1, 1, 1, 1, 1, 1, 1, 1, 1, 1, 1, 0, 1, 1],\n",
       " [0, 0, 1, 1, 1, 1, 1, 1, 1, 1, 1, 1, 0, 1, 1, 1],\n",
       " [1, 1, 1, 1, 1, 1, 1, 1, 1, 1, 0, 0, 0, 1, 1, 1],\n",
       " [1, 1, 1, 1, 0, 1, 1, 1, 1, 1, 1, 1, 1, 1, 1, 1],\n",
       " [0, 1, 1, 1, 0, 1, 1, 0, 1, 1, 0, 1, 1, 1, 1, 1]]"
      ]
     },
     "execution_count": 4,
     "metadata": {},
     "output_type": "execute_result"
    }
   ],
   "source": [
    "def generate_random_matrix(barrier_density):\n",
    "    mat = [[1 if random.random() > barrier_density else 0 for i in range(WIDTH)] for j in range(HEIGHT)]\n",
    "    for goal in GOALS:\n",
    "        mat[goal[0]][goal[1]] = 1\n",
    "    return mat\n",
    "\n",
    "random.seed(1234)\n",
    "test_matrix = generate_random_matrix(0.2)\n",
    "test_matrix"
   ]
  },
  {
   "cell_type": "code",
   "execution_count": 5,
   "metadata": {},
   "outputs": [],
   "source": [
    "def join_paths(points, pathfinder):\n",
    "    path = []\n",
    "    for i in range(len(points) - 1):\n",
    "        start = points[i]\n",
    "        end = points[i + 1]\n",
    "        subpath = pathfinder(start, end)\n",
    "        if len(subpath) == 0:\n",
    "            return None\n",
    "        if i > 0:\n",
    "            subpath = subpath[1:]\n",
    "        path += subpath\n",
    "    return path"
   ]
  },
  {
   "cell_type": "code",
   "execution_count": 6,
   "metadata": {},
   "outputs": [
    {
     "data": {
      "text/plain": [
       "[(1, 1),\n",
       " (1, 2),\n",
       " (1, 3),\n",
       " (1, 4),\n",
       " (1, 5),\n",
       " (2, 5),\n",
       " (3, 5),\n",
       " (4, 5),\n",
       " (4, 6),\n",
       " (4, 7),\n",
       " (5, 7),\n",
       " (6, 7),\n",
       " (6, 8),\n",
       " (6, 9),\n",
       " (7, 9),\n",
       " (7, 10),\n",
       " (7, 11),\n",
       " (8, 11),\n",
       " (8, 12),\n",
       " (8, 13),\n",
       " (8, 14),\n",
       " (8, 13),\n",
       " (8, 12),\n",
       " (9, 12),\n",
       " (9, 11),\n",
       " (9, 10),\n",
       " (9, 9),\n",
       " (9, 8),\n",
       " (9, 7),\n",
       " (10, 7),\n",
       " (11, 7),\n",
       " (12, 7),\n",
       " (13, 7),\n",
       " (14, 7),\n",
       " (14, 6),\n",
       " (14, 5),\n",
       " (14, 4),\n",
       " (14, 3),\n",
       " (13, 3),\n",
       " (13, 2),\n",
       " (13, 1),\n",
       " (14, 1)]"
      ]
     },
     "execution_count": 6,
     "metadata": {},
     "output_type": "execute_result"
    }
   ],
   "source": [
    "def get_paths(matrix):\n",
    "    pathfinder = lambda start, end: find_path(matrix, start, end)\n",
    "    return join_paths(GOALS, pathfinder)\n",
    "\n",
    "test_path = get_paths(test_matrix)\n",
    "# print(grid.grid_str(path=path, start=start, end=end))\n",
    "test_path"
   ]
  },
  {
   "cell_type": "code",
   "execution_count": 7,
   "metadata": {},
   "outputs": [
    {
     "name": "stdout",
     "output_type": "stream",
     "text": [
      "+----------------+\n",
      "|  #    #  #    #|\n",
      "|#s#  #   #   xe |\n",
      "| x  # ##  # #x# |\n",
      "| x# #  ## # #xx |\n",
      "| x        ## #x |\n",
      "| xxxx  #  #   x#|\n",
      "| # #x#    # # x |\n",
      "|    xxx #xxxxxx |\n",
      "| #   #x# x #    |\n",
      "|      xx x#    #|\n",
      "|    #  x#x#     |\n",
      "|       xxx   #  |\n",
      "|##      xx  #   |\n",
      "|        x ###   |\n",
      "|    #   x       |\n",
      "|#   #  #  #     |\n",
      "+----------------+\n"
     ]
    }
   ],
   "source": [
    "def visualize_path(matrix, path, start_xy, end_xy):\n",
    "    if path is None:\n",
    "        path = []\n",
    "    grid = Grid(matrix=matrix)\n",
    "    start = grid.node(start_xy[0], start_xy[1])\n",
    "    end = grid.node(end_xy[0], end_xy[1])\n",
    "    print(grid.grid_str(path=path, start=start, end=end))\n",
    "    \n",
    "visualize_path(test_matrix, test_path, GOALS[0], GOALS[len(GOALS) - 1])"
   ]
  },
  {
   "cell_type": "code",
   "execution_count": 8,
   "metadata": {},
   "outputs": [
    {
     "data": {
      "text/plain": [
       "[[0, 0, 0, 0, 0, 0, 0, 0, 0, 0, 0, 0, 0, 0, 0, 0],\n",
       " [0, 0, 0, 0, 0, 0, 0, 0, 0, 0, 0, 0, 0, 0, 0, 0],\n",
       " [0, 0, 0, 0, 0, 0, 0, 0, 0, 0, 0, 0, 0, 0, 0, 0],\n",
       " [0, 0, 0, 0, 0, 0, 0, 1, 0, 0, 1, 0, 0, 0, 0, 0],\n",
       " [0, 0, 0, 0, 0, 1, 1, 1, 1, 1, 2, 1, 0, 0, 0, 0],\n",
       " [0, 0, 0, 0, 1, 2, 2, 0, 3, 3, 0, 2, 1, 0, 0, 0],\n",
       " [0, 0, 0, 1, 1, 0, 2, 4, 3, 3, 0, 3, 1, 0, 0, 0],\n",
       " [0, 0, 0, 0, 2, 2, 4, 3, 0, 2, 5, 2, 1, 0, 0, 0],\n",
       " [0, 0, 0, 1, 1, 0, 2, 0, 3, 4, 4, 0, 1, 1, 0, 0],\n",
       " [0, 0, 0, 0, 1, 1, 2, 2, 4, 3, 0, 3, 2, 0, 0, 0],\n",
       " [0, 0, 0, 0, 0, 1, 1, 2, 0, 3, 0, 3, 1, 0, 0, 0],\n",
       " [0, 0, 0, 0, 0, 0, 0, 1, 1, 2, 2, 1, 0, 0, 0, 0],\n",
       " [0, 0, 0, 0, 0, 0, 0, 0, 1, 0, 1, 0, 0, 0, 0, 0],\n",
       " [0, 0, 0, 0, 0, 0, 0, 0, 0, 0, 0, 0, 0, 0, 0, 0],\n",
       " [0, 0, 0, 0, 0, 0, 0, 0, 0, 0, 0, 0, 0, 0, 0, 0],\n",
       " [0, 0, 0, 0, 0, 0, 0, 0, 0, 0, 0, 0, 0, 0, 0, 0]]"
      ]
     },
     "execution_count": 8,
     "metadata": {},
     "output_type": "execute_result"
    }
   ],
   "source": [
    "import math\n",
    "\n",
    "def get_damage(matrix, i, j):\n",
    "    damage = 0\n",
    "    [cx, cy] = CENTER\n",
    "    for ox in range(-CENTER_RAD, CENTER_RAD + 1):\n",
    "        for oy in range(-CENTER_RAD, CENTER_RAD + 1):\n",
    "            x = cx + ox\n",
    "            y = cy + oy\n",
    "            if matrix[y][x] == 1:\n",
    "                continue\n",
    "            if x == i and y == j:\n",
    "                return 0\n",
    "            dis = math.sqrt((x - i) ** 2 + (y - j) ** 2)\n",
    "            if dis <= TOWER_RANGE:\n",
    "                damage += 1\n",
    "    return damage\n",
    "    \n",
    "\n",
    "def get_damage_matrix(matrix):\n",
    "    return [[get_damage(matrix, i, j) for i in range(WIDTH)] for j in range(HEIGHT)]\n",
    "\n",
    "get_damage_matrix(test_matrix)"
   ]
  },
  {
   "cell_type": "code",
   "execution_count": 9,
   "metadata": {},
   "outputs": [
    {
     "data": {
      "text/plain": [
       "44"
      ]
     },
     "execution_count": 9,
     "metadata": {},
     "output_type": "execute_result"
    }
   ],
   "source": [
    "def score_matrix(matrix):\n",
    "    path = get_paths(matrix)\n",
    "    if path is None:\n",
    "        return BLOCK_PENALTY\n",
    "    damage = get_damage_matrix(matrix)\n",
    "    score = 0\n",
    "    for (x, y) in path:\n",
    "        score += damage[y][x]\n",
    "    return score\n",
    "    \n",
    "score_matrix(test_matrix)"
   ]
  },
  {
   "cell_type": "code",
   "execution_count": 10,
   "metadata": {},
   "outputs": [
    {
     "data": {
      "text/plain": [
       "[[5, 0], [4, 0], [4, 1], [3, 1], [3, 2], [2, 2], [1, 2], [1, 3], [0, 3]]"
      ]
     },
     "execution_count": 10,
     "metadata": {},
     "output_type": "execute_result"
    }
   ],
   "source": [
    "import numpy as np\n",
    "\n",
    "def ab_line(x0, y0, x1, y1):\n",
    "    range_x = x1 - x0\n",
    "    range_y = y1 - y0\n",
    "    dir_x = np.sign(range_x)\n",
    "    dir_y = np.sign(range_y)\n",
    "    x = x0\n",
    "    y = y0\n",
    "    path = [[x, y]]\n",
    "    while x != x1 or y != y1:\n",
    "        x += dir_x\n",
    "        if dir_x != 0:\n",
    "            path.append([x, y])\n",
    "            \n",
    "        perc = 1\n",
    "        if range_x != 0:\n",
    "            perc = (x - x0) / range_x\n",
    "        \n",
    "        if range_y == 0:\n",
    "            continue\n",
    "            \n",
    "        while (y - y0) / range_y < perc:\n",
    "            y += dir_y\n",
    "            path.append([x, y])\n",
    "    return path\n",
    "\n",
    "ab_line(5, 0, 0, 3)"
   ]
  },
  {
   "cell_type": "code",
   "execution_count": 11,
   "metadata": {},
   "outputs": [
    {
     "data": {
      "text/plain": [
       "64"
      ]
     },
     "execution_count": 11,
     "metadata": {},
     "output_type": "execute_result"
    }
   ],
   "source": [
    "def generate_random_path(width, height, min_between, max_between):\n",
    "    points = [GOALS[0]]\n",
    "    for i in range(1, len(GOALS)):\n",
    "        between = random.randint(min_between, max_between)\n",
    "        for j in range(between):\n",
    "            point = [random.randint(0, width - 1), random.randint(0, height - 1)]\n",
    "            points.append(point)\n",
    "        points.append(GOALS[i])\n",
    "    pathfinder = lambda start, end: ab_line(start[0], start[1], end[0], end[1])\n",
    "    return join_paths(points, pathfinder)\n",
    "\n",
    "random_path = generate_random_path(WIDTH, HEIGHT, 2, 2)\n",
    "len(random_path)"
   ]
  },
  {
   "cell_type": "code",
   "execution_count": 12,
   "metadata": {
    "scrolled": true
   },
   "outputs": [
    {
     "name": "stdout",
     "output_type": "stream",
     "text": [
      "102\n"
     ]
    },
    {
     "data": {
      "text/plain": [
       "[[0, 0, 0, 0, 0, 0, 0, 0, 0, 0, 0, 0, 0, 0, 0, 0],\n",
       " [0, 1, 1, 0, 0, 0, 0, 0, 0, 0, 0, 0, 0, 0, 1, 1],\n",
       " [0, 0, 1, 0, 0, 0, 0, 0, 0, 0, 0, 0, 0, 1, 1, 1],\n",
       " [0, 0, 1, 1, 0, 0, 0, 0, 0, 0, 0, 0, 0, 1, 1, 1],\n",
       " [0, 0, 0, 1, 1, 0, 0, 0, 0, 0, 0, 0, 0, 1, 1, 0],\n",
       " [0, 0, 0, 0, 1, 1, 0, 0, 0, 0, 0, 0, 1, 1, 1, 0],\n",
       " [0, 0, 0, 0, 0, 1, 1, 0, 0, 0, 0, 0, 1, 1, 1, 0],\n",
       " [0, 0, 0, 0, 0, 0, 1, 1, 0, 0, 0, 1, 1, 1, 0, 0],\n",
       " [0, 0, 0, 0, 0, 0, 0, 1, 1, 0, 0, 1, 1, 1, 0, 0],\n",
       " [0, 0, 0, 0, 0, 0, 0, 0, 1, 1, 1, 1, 1, 1, 0, 0],\n",
       " [0, 0, 0, 0, 0, 0, 0, 0, 0, 1, 1, 1, 1, 0, 0, 0],\n",
       " [0, 0, 0, 0, 0, 0, 0, 0, 0, 1, 1, 1, 1, 0, 0, 0],\n",
       " [0, 0, 0, 0, 0, 0, 0, 0, 0, 1, 1, 1, 1, 0, 0, 0],\n",
       " [0, 0, 0, 0, 0, 0, 0, 0, 1, 1, 1, 0, 0, 0, 0, 0],\n",
       " [0, 0, 0, 0, 0, 0, 0, 0, 1, 1, 0, 0, 0, 0, 0, 0],\n",
       " [0, 0, 0, 0, 0, 0, 0, 0, 0, 0, 0, 0, 0, 0, 0, 0]]"
      ]
     },
     "execution_count": 12,
     "metadata": {},
     "output_type": "execute_result"
    }
   ],
   "source": [
    "def generate_maze_from_path(path):\n",
    "    maze = [[0 for i in range(WIDTH)] for j in range(HEIGHT)]\n",
    "    for point in path:\n",
    "        maze[point[1]][point[0]] = 1\n",
    "    return maze\n",
    "\n",
    "random_path = generate_random_path(WIDTH, HEIGHT, 2, 2)\n",
    "m = generate_maze_from_path(random_path)\n",
    "print(score_matrix(m))\n",
    "m"
   ]
  },
  {
   "cell_type": "code",
   "execution_count": 21,
   "metadata": {},
   "outputs": [],
   "source": [
    "def score_mazes(mazes):\n",
    "    scores = []\n",
    "    for index in range(len(mazes)):\n",
    "        scores.append(score_matrix(mazes[index]))\n",
    "        if index > 0 and index % 250 == 0:\n",
    "            print(f'Scored {index}/{len(mazes)}')\n",
    "    return scores"
   ]
  },
  {
   "cell_type": "code",
   "execution_count": 22,
   "metadata": {},
   "outputs": [
    {
     "data": {
      "text/plain": [
       "[85,\n",
       " 46,\n",
       " 82,\n",
       " 111,\n",
       " 111,\n",
       " 98,\n",
       " 73,\n",
       " 104,\n",
       " 100,\n",
       " 88,\n",
       " 107,\n",
       " 82,\n",
       " 134,\n",
       " 103,\n",
       " 95,\n",
       " 82,\n",
       " 112,\n",
       " 82,\n",
       " 37,\n",
       " 120]"
      ]
     },
     "execution_count": 22,
     "metadata": {},
     "output_type": "execute_result"
    }
   ],
   "source": [
    "def generate_path_mazes(n):\n",
    "    mazes = []\n",
    "    for i in range(n):\n",
    "        path = generate_random_path(WIDTH, HEIGHT, 0, 3)\n",
    "        mazes.append(generate_maze_from_path(path))\n",
    "    return mazes\n",
    "\n",
    "random.seed(1234)\n",
    "test_mazes = generate_path_mazes(20)\n",
    "test_scores = score_mazes(test_mazes)\n",
    "test_scores"
   ]
  },
  {
   "cell_type": "code",
   "execution_count": null,
   "metadata": {},
   "outputs": [],
   "source": [
    "# random.seed(1234)\n",
    "# test_scores = [score_matrix(generate_random_matrix(0.2)) for i in range(20)]\n",
    "# test_scores"
   ]
  },
  {
   "cell_type": "code",
   "execution_count": null,
   "metadata": {},
   "outputs": [],
   "source": [
    "# import numpy as np\n",
    "\n",
    "# random.seed(1234)\n",
    "# [(density/20, np.mean([score_matrix(generate_random_matrix(density/20)) for i in range(500)])) for density in range(1, 20)]"
   ]
  },
  {
   "cell_type": "code",
   "execution_count": null,
   "metadata": {},
   "outputs": [],
   "source": [
    "#best = 0.2\n",
    "#random.seed(1234)\n",
    "#test_scores_best = [score_matrix(generate_random_matrix(best)) for i in range(2000)]"
   ]
  },
  {
   "cell_type": "code",
   "execution_count": null,
   "metadata": {},
   "outputs": [],
   "source": [
    "# random.seed(1234)\n",
    "# matrix_corpus = [generate_random_matrix(best) for i in range(10000)]\n",
    "# matrix_scores = [score_matrix(m) for m in matrix_corpus]"
   ]
  },
  {
   "cell_type": "code",
   "execution_count": 23,
   "metadata": {
    "scrolled": false
   },
   "outputs": [
    {
     "data": {
      "text/plain": [
       "(array([2., 0., 0., 1., 5., 2., 4., 4., 1., 1.]),\n",
       " array([ 37. ,  46.7,  56.4,  66.1,  75.8,  85.5,  95.2, 104.9, 114.6,\n",
       "        124.3, 134. ]),\n",
       " <BarContainer object of 10 artists>)"
      ]
     },
     "execution_count": 23,
     "metadata": {},
     "output_type": "execute_result"
    },
    {
     "data": {
      "image/png": "[encoded data removed]",
      "text/plain": [
       "<Figure size 432x288 with 1 Axes>"
      ]
     },
     "metadata": {
      "needs_background": "light"
     },
     "output_type": "display_data"
    }
   ],
   "source": [
    "random.seed(1234)\n",
    "matrix_corpus = generate_path_mazes(40000)\n",
    "matrix_scores = score_mazes(matrix_corpus)\n"
   ]
  },
  {
   "cell_type": "code",
   "execution_count": null,
   "metadata": {},
   "outputs": [],
   "source": [
    "import matplotlib.pyplot as plt\n",
    "plt.hist(test_scores)"
   ]
  },
  {
   "cell_type": "code",
   "execution_count": 24,
   "metadata": {
    "scrolled": true
   },
   "outputs": [
    {
     "name": "stdout",
     "output_type": "stream",
     "text": [
      "192\n",
      "+----------------+\n",
      "|################|\n",
      "|#sx###########e#|\n",
      "|##x###########x#|\n",
      "|##xx#xxx#####xx#|\n",
      "|###xxx#x#####x##|\n",
      "|#   x##xx####x##|\n",
      "|  ##xx##x###xx##|\n",
      "|  ###x##xx##x###|\n",
      "|#  ##xx##x#xx###|\n",
      "|##  ##xx#xxx####|\n",
      "|###  ##x##  ####|\n",
      "|####  #x##  ####|\n",
      "|#####  xx#######|\n",
      "|######  x#######|\n",
      "|####### x#######|\n",
      "|################|\n",
      "+----------------+\n"
     ]
    }
   ],
   "source": [
    "print(np.max(matrix_scores))\n",
    "best_mat = matrix_corpus[np.argmax(matrix_scores)]\n",
    "visualize_path(best_mat, get_paths(best_mat), GOALS[0], GOALS[len(GOALS) - 1])"
   ]
  },
  {
   "cell_type": "code",
   "execution_count": 25,
   "metadata": {},
   "outputs": [],
   "source": [
    "random.seed(4321)\n",
    "matrix_test_X = generate_path_mazes(2000)\n",
    "matrix_test_y = [score_matrix(m) for m in matrix_test_X]"
   ]
  },
  {
   "cell_type": "code",
   "execution_count": null,
   "metadata": {},
   "outputs": [],
   "source": [
    "# random.seed(4321)\n",
    "# matrix_test_X = [generate_random_matrix(best) for i in range(2000)]\n",
    "# matrix_test_y = [score_matrix(m) for m in matrix_test_X]"
   ]
  },
  {
   "cell_type": "code",
   "execution_count": null,
   "metadata": {},
   "outputs": [],
   "source": [
    "# def get_collision_array(matrix, x, y):\n",
    "#     if x < 0 or y < 0 or x >= WIDTH or y >= HEIGHT:\n",
    "#         return 0\n",
    "#     return matrix[y][x]\n",
    "\n",
    "# def generate_collision_tensor(matrix):\n",
    "#     return [[[ \\\n",
    "#         get_collision_array(matrix, x-1, y), \\\n",
    "#         get_collision_array(matrix, x+1, y), \\\n",
    "#         get_collision_array(matrix, x, y-1), \\\n",
    "#         get_collision_array(matrix, x, y+1) \\\n",
    "#     ] for x in range(WIDTH)] for y in range(HEIGHT)]\n",
    "            \n",
    "# test_collision = generate_collision_tensor(test_matrix)\n",
    "\n",
    "# print(test_collision[0][0])\n",
    "# print(test_collision[1][1])\n",
    "# print(test_collision[2][2])\n",
    "# print(test_collision[3][3])\n",
    "\n",
    "\n",
    "# test_matrix"
   ]
  },
  {
   "cell_type": "code",
   "execution_count": null,
   "metadata": {},
   "outputs": [],
   "source": [
    "# matrix_train_col_X = [generate_collision_tensor(m) for m in matrix_corpus]\n",
    "# matrix_test_col_X = [generate_collision_tensor(m) for m in matrix_test_X]"
   ]
  },
  {
   "cell_type": "code",
   "execution_count": 26,
   "metadata": {},
   "outputs": [],
   "source": [
    "file = open('train_X.data', 'wb')\n",
    "np.save(file, np.array(matrix_corpus))\n",
    "file.close()\n",
    "\n",
    "file = open('train_Y.data', 'wb')\n",
    "np.save(file, np.array(matrix_scores))\n",
    "file.close()\n",
    "\n",
    "file = open('test_X.data', 'wb')\n",
    "np.save(file, np.array(matrix_test_X))\n",
    "file.close()\n",
    "\n",
    "file = open('test_Y.data', 'wb')\n",
    "np.save(file, np.array(matrix_test_y))\n",
    "file.close()\n",
    "\n",
    "# file = open('train_col_X.data', 'wb')\n",
    "# np.save(file, np.array(matrix_train_col_X))\n",
    "# file.close()\n",
    "\n",
    "# file = open('test_col_X.data', 'wb')\n",
    "# np.save(file, np.array(matrix_test_col_X))\n",
    "# file.close()\n"
   ]
  },
  {
   "cell_type": "code",
   "execution_count": null,
   "metadata": {},
   "outputs": [],
   "source": []
  }
 ],
 "metadata": {
  "kernelspec": {
   "display_name": "Python 3",
   "language": "python",
   "name": "python3"
  },
  "language_info": {
   "codemirror_mode": {
    "name": "ipython",
    "version": 3
   },
   "file_extension": ".py",
   "mimetype": "text/x-python",
   "name": "python",
   "nbconvert_exporter": "python",
   "pygments_lexer": "ipython3",
   "version": "3.8.5"
  }
 },
 "nbformat": 4,
 "nbformat_minor": 4
}
