{
 "cells": [
  {
   "cell_type": "code",
   "execution_count": 6,
   "metadata": {},
   "outputs": [],
   "source": [
    "from pathfinding.core.diagonal_movement import DiagonalMovement\n",
    "from pathfinding.core.grid import Grid\n",
    "from pathfinding.finder.a_star import AStarFinder\n",
    "\n",
    "import random"
   ]
  },
  {
   "cell_type": "code",
   "execution_count": 7,
   "metadata": {
    "scrolled": false
   },
   "outputs": [
    {
     "data": {
      "text/plain": [
       "[(0, 0), (0, 1), (0, 2), (1, 2), (2, 2)]"
      ]
     },
     "execution_count": 7,
     "metadata": {},
     "output_type": "execute_result"
    }
   ],
   "source": [
    "def find_path(matrix, start_xy, end_xy):\n",
    "    grid = Grid(matrix=matrix)\n",
    "    start = grid.node(start_xy[0], start_xy[1])\n",
    "    end = grid.node(end_xy[0], end_xy[1])\n",
    "    finder = AStarFinder(diagonal_movement=DiagonalMovement.never)\n",
    "    path, runs = finder.find_path(start, end, grid)\n",
    "#     print(path)\n",
    "#     print(grid.grid_str(path=path, start=start, end=end))\n",
    "    return path\n",
    "\n",
    "matrix = [\n",
    "  [1, 1, 1],\n",
    "  [1, 0, 0],\n",
    "  [1, 1, 1]\n",
    "]\n",
    "\n",
    "\n",
    "find_path(matrix, [0, 0], [2, 2])\n",
    "\n",
    "# finder = AStarFinder(diagonal_movement=DiagonalMovement.always)\n",
    "# path, runs = finder.find_path(start, end, grid)\n",
    "\n",
    "# print('operations:', runs, 'path length:', len(path))\n",
    "# print(grid.grid_str(path=path, start=start, end=end))"
   ]
  },
  {
   "cell_type": "code",
   "execution_count": 8,
   "metadata": {},
   "outputs": [],
   "source": [
    "WIDTH = 16\n",
    "HEIGHT = 16\n",
    "GOALS = [[1, 1], [WIDTH // 2, HEIGHT - 2], [WIDTH - 1, 1]]\n",
    "\n",
    "CENTER = [WIDTH // 2, HEIGHT // 2]\n",
    "CENTER_RAD = 3\n",
    "TOWER_RANGE = 2\n",
    "BLOCK_PENALTY = -1"
   ]
  },
  {
   "cell_type": "code",
   "execution_count": 9,
   "metadata": {
    "scrolled": true
   },
   "outputs": [
    {
     "data": {
      "text/plain": [
       "[[1, 1, 0, 1, 1, 1, 1, 0, 1, 1, 0, 1, 1, 1, 1, 0],\n",
       " [0, 1, 0, 1, 1, 0, 1, 1, 1, 0, 1, 1, 1, 1, 1, 1],\n",
       " [1, 1, 1, 1, 0, 1, 0, 0, 1, 1, 0, 1, 0, 1, 0, 1],\n",
       " [1, 1, 0, 1, 0, 1, 1, 0, 0, 1, 0, 1, 0, 1, 1, 1],\n",
       " [1, 1, 1, 1, 1, 1, 1, 1, 1, 1, 0, 0, 1, 0, 1, 1],\n",
       " [1, 1, 1, 1, 1, 1, 1, 0, 1, 1, 0, 1, 1, 1, 1, 0],\n",
       " [1, 0, 1, 0, 1, 0, 1, 1, 1, 1, 0, 1, 0, 1, 1, 1],\n",
       " [1, 1, 1, 1, 1, 1, 1, 1, 0, 1, 1, 1, 1, 1, 1, 1],\n",
       " [1, 0, 1, 1, 1, 0, 1, 0, 1, 1, 1, 0, 1, 1, 1, 1],\n",
       " [1, 1, 1, 1, 1, 1, 1, 1, 1, 1, 0, 1, 1, 1, 1, 0],\n",
       " [1, 1, 1, 1, 0, 1, 1, 1, 0, 1, 0, 1, 1, 1, 1, 1],\n",
       " [1, 1, 1, 1, 1, 1, 1, 1, 1, 1, 1, 1, 1, 0, 1, 1],\n",
       " [0, 0, 1, 1, 1, 1, 1, 1, 1, 1, 1, 1, 0, 1, 1, 1],\n",
       " [1, 1, 1, 1, 1, 1, 1, 1, 1, 1, 0, 0, 0, 1, 1, 1],\n",
       " [1, 1, 1, 1, 0, 1, 1, 1, 1, 1, 1, 1, 1, 1, 1, 1],\n",
       " [0, 1, 1, 1, 0, 1, 1, 0, 1, 1, 0, 1, 1, 1, 1, 1]]"
      ]
     },
     "execution_count": 9,
     "metadata": {},
     "output_type": "execute_result"
    }
   ],
   "source": [
    "def generate_random_matrix(barrier_density):\n",
    "    mat = [[1 if random.random() > barrier_density else 0 for i in range(WIDTH)] for j in range(HEIGHT)]\n",
    "    for goal in GOALS:\n",
    "        mat[goal[0]][goal[1]] = 1\n",
    "    return mat\n",
    "\n",
    "random.seed(1234)\n",
    "test_matrix = generate_random_matrix(0.2)\n",
    "test_matrix"
   ]
  },
  {
   "cell_type": "code",
   "execution_count": 10,
   "metadata": {},
   "outputs": [
    {
     "data": {
      "text/plain": [
       "[(1, 1),\n",
       " (1, 2),\n",
       " (1, 3),\n",
       " (1, 4),\n",
       " (1, 5),\n",
       " (2, 5),\n",
       " (3, 5),\n",
       " (4, 5),\n",
       " (4, 6),\n",
       " (4, 7),\n",
       " (5, 7),\n",
       " (6, 7),\n",
       " (6, 8),\n",
       " (6, 9),\n",
       " (7, 9),\n",
       " (7, 10),\n",
       " (7, 11),\n",
       " (8, 11),\n",
       " (8, 12),\n",
       " (8, 13),\n",
       " (8, 14),\n",
       " (8, 13),\n",
       " (8, 12),\n",
       " (9, 12),\n",
       " (9, 11),\n",
       " (9, 10),\n",
       " (9, 9),\n",
       " (9, 8),\n",
       " (9, 7),\n",
       " (10, 7),\n",
       " (11, 7),\n",
       " (12, 7),\n",
       " (13, 7),\n",
       " (13, 6),\n",
       " (13, 5),\n",
       " (14, 5),\n",
       " (14, 4),\n",
       " (14, 3),\n",
       " (15, 3),\n",
       " (15, 2),\n",
       " (15, 1)]"
      ]
     },
     "execution_count": 10,
     "metadata": {},
     "output_type": "execute_result"
    }
   ],
   "source": [
    "def get_paths(matrix):\n",
    "    path = []\n",
    "    for i in range(len(GOALS) - 1):\n",
    "        start = GOALS[i]\n",
    "        end = GOALS[i + 1]\n",
    "        subpath = find_path(matrix, start, end)\n",
    "        if len(subpath) == 0:\n",
    "            return None\n",
    "        if i > 0:\n",
    "            subpath = subpath[1:]\n",
    "        path += subpath\n",
    "    return path\n",
    "\n",
    "test_path = get_paths(test_matrix)\n",
    "# print(grid.grid_str(path=path, start=start, end=end))\n",
    "test_path"
   ]
  },
  {
   "cell_type": "code",
   "execution_count": 11,
   "metadata": {},
   "outputs": [
    {
     "name": "stdout",
     "output_type": "stream",
     "text": [
      "+----------------+\n",
      "|  #    #  #    #|\n",
      "|#s#  #   #     e|\n",
      "| x  # ##  # # #x|\n",
      "| x# #  ## # # xx|\n",
      "| x        ## #x |\n",
      "| xxxx  #  #  xx#|\n",
      "| # #x#    # #x  |\n",
      "|    xxx #xxxxx  |\n",
      "| #   #x# x #    |\n",
      "|      xx x#    #|\n",
      "|    #  x#x#     |\n",
      "|       xxx   #  |\n",
      "|##      xx  #   |\n",
      "|        x ###   |\n",
      "|    #   x       |\n",
      "|#   #  #  #     |\n",
      "+----------------+\n"
     ]
    }
   ],
   "source": [
    "def visualize_path(matrix, path, start_xy, end_xy):\n",
    "    if path is None:\n",
    "        path = []\n",
    "    grid = Grid(matrix=matrix)\n",
    "    start = grid.node(start_xy[0], start_xy[1])\n",
    "    end = grid.node(end_xy[0], end_xy[1])\n",
    "    print(grid.grid_str(path=path, start=start, end=end))\n",
    "    \n",
    "visualize_path(test_matrix, test_path, GOALS[0], GOALS[len(GOALS) - 1])"
   ]
  },
  {
   "cell_type": "code",
   "execution_count": 12,
   "metadata": {},
   "outputs": [
    {
     "data": {
      "text/plain": [
       "[[0, 0, 0, 0, 0, 0, 0, 0, 0, 0, 0, 0, 0, 0, 0, 0],\n",
       " [0, 0, 0, 0, 0, 0, 0, 0, 0, 0, 0, 0, 0, 0, 0, 0],\n",
       " [0, 0, 0, 0, 0, 0, 0, 0, 0, 0, 0, 0, 0, 0, 0, 0],\n",
       " [0, 0, 0, 0, 0, 0, 0, 1, 0, 0, 1, 0, 0, 0, 0, 0],\n",
       " [0, 0, 0, 0, 0, 1, 1, 1, 1, 1, 2, 1, 0, 0, 0, 0],\n",
       " [0, 0, 0, 0, 1, 2, 2, 0, 3, 3, 0, 2, 1, 0, 0, 0],\n",
       " [0, 0, 0, 1, 1, 0, 2, 4, 3, 3, 0, 3, 1, 0, 0, 0],\n",
       " [0, 0, 0, 0, 2, 2, 4, 3, 0, 2, 5, 2, 1, 0, 0, 0],\n",
       " [0, 0, 0, 1, 1, 0, 2, 0, 3, 4, 4, 0, 1, 1, 0, 0],\n",
       " [0, 0, 0, 0, 1, 1, 2, 2, 4, 3, 0, 3, 2, 0, 0, 0],\n",
       " [0, 0, 0, 0, 0, 1, 1, 2, 0, 3, 0, 3, 1, 0, 0, 0],\n",
       " [0, 0, 0, 0, 0, 0, 0, 1, 1, 2, 2, 1, 0, 0, 0, 0],\n",
       " [0, 0, 0, 0, 0, 0, 0, 0, 1, 0, 1, 0, 0, 0, 0, 0],\n",
       " [0, 0, 0, 0, 0, 0, 0, 0, 0, 0, 0, 0, 0, 0, 0, 0],\n",
       " [0, 0, 0, 0, 0, 0, 0, 0, 0, 0, 0, 0, 0, 0, 0, 0],\n",
       " [0, 0, 0, 0, 0, 0, 0, 0, 0, 0, 0, 0, 0, 0, 0, 0]]"
      ]
     },
     "execution_count": 12,
     "metadata": {},
     "output_type": "execute_result"
    }
   ],
   "source": [
    "import math\n",
    "\n",
    "def get_damage(matrix, i, j):\n",
    "    damage = 0\n",
    "    [cx, cy] = CENTER\n",
    "    for ox in range(-CENTER_RAD, CENTER_RAD + 1):\n",
    "        for oy in range(-CENTER_RAD, CENTER_RAD + 1):\n",
    "            x = cx + ox\n",
    "            y = cy + oy\n",
    "            if matrix[y][x] == 1:\n",
    "                continue\n",
    "            if x == i and y == j:\n",
    "                return 0\n",
    "            dis = math.sqrt((x - i) ** 2 + (y - j) ** 2)\n",
    "            if dis <= TOWER_RANGE:\n",
    "                damage += 1\n",
    "    return damage\n",
    "    \n",
    "\n",
    "def get_damage_matrix(matrix):\n",
    "    return [[get_damage(matrix, i, j) for i in range(WIDTH)] for j in range(HEIGHT)]\n",
    "\n",
    "get_damage_matrix(test_matrix)"
   ]
  },
  {
   "cell_type": "code",
   "execution_count": 13,
   "metadata": {},
   "outputs": [
    {
     "data": {
      "text/plain": [
       "44"
      ]
     },
     "execution_count": 13,
     "metadata": {},
     "output_type": "execute_result"
    }
   ],
   "source": [
    "def score_matrix(matrix):\n",
    "    path = get_paths(matrix)\n",
    "    if path is None:\n",
    "        return BLOCK_PENALTY\n",
    "    damage = get_damage_matrix(matrix)\n",
    "    score = 0\n",
    "    for (x, y) in path:\n",
    "        score += damage[y][x]\n",
    "    return score\n",
    "    \n",
    "score_matrix(test_matrix)"
   ]
  },
  {
   "cell_type": "code",
   "execution_count": 14,
   "metadata": {},
   "outputs": [
    {
     "data": {
      "text/plain": [
       "[44, 8, 19, -1, -1, -1, 11, 13, 31, 7, -1, 47, 10, -1, 18, 30, 20, 17, 38, 39]"
      ]
     },
     "execution_count": 14,
     "metadata": {},
     "output_type": "execute_result"
    }
   ],
   "source": [
    "random.seed(1234)\n",
    "test_scores = [score_matrix(generate_random_matrix(0.2)) for i in range(20)]\n",
    "test_scores"
   ]
  },
  {
   "cell_type": "code",
   "execution_count": 17,
   "metadata": {},
   "outputs": [
    {
     "data": {
      "text/plain": [
       "[(0.05, 5.458),\n",
       " (0.1, 9.744),\n",
       " (0.15, 13.624),\n",
       " (0.2, 15.64),\n",
       " (0.25, 15.61),\n",
       " (0.3, 9.426),\n",
       " (0.35, 5.452),\n",
       " (0.4, 0.99),\n",
       " (0.45, -0.434),\n",
       " (0.5, -1.0),\n",
       " (0.55, -1.0),\n",
       " (0.6, -1.0),\n",
       " (0.65, -1.0),\n",
       " (0.7, -1.0),\n",
       " (0.75, -1.0),\n",
       " (0.8, -1.0),\n",
       " (0.85, -1.0),\n",
       " (0.9, -1.0),\n",
       " (0.95, -1.0)]"
      ]
     },
     "execution_count": 17,
     "metadata": {},
     "output_type": "execute_result"
    }
   ],
   "source": [
    "import numpy as np\n",
    "\n",
    "random.seed(1234)\n",
    "[(density/20, np.mean([score_matrix(generate_random_matrix(density/20)) for i in range(500)])) for density in range(1, 20)]"
   ]
  },
  {
   "cell_type": "code",
   "execution_count": 18,
   "metadata": {},
   "outputs": [],
   "source": [
    "best = 0.2\n",
    "random.seed(1234)\n",
    "test_scores_best = [score_matrix(generate_random_matrix(best)) for i in range(2000)]"
   ]
  },
  {
   "cell_type": "code",
   "execution_count": 19,
   "metadata": {
    "scrolled": false
   },
   "outputs": [
    {
     "data": {
      "text/plain": [
       "(array([871., 155., 294., 267., 197., 130.,  61.,  19.,   3.,   3.]),\n",
       " array([-1. ,  6.8, 14.6, 22.4, 30.2, 38. , 45.8, 53.6, 61.4, 69.2, 77. ]),\n",
       " <BarContainer object of 10 artists>)"
      ]
     },
     "execution_count": 19,
     "metadata": {},
     "output_type": "execute_result"
    },
    {
     "data": {
      "image/png": "[encoded data removed]",
      "text/plain": [
       "<Figure size 432x288 with 1 Axes>"
      ]
     },
     "metadata": {
      "needs_background": "light"
     },
     "output_type": "display_data"
    }
   ],
   "source": [
    "import matplotlib.pyplot as plt\n",
    "plt.hist(test_scores_best)"
   ]
  },
  {
   "cell_type": "code",
   "execution_count": 20,
   "metadata": {},
   "outputs": [],
   "source": [
    "random.seed(1234)\n",
    "matrix_corpus = [generate_random_matrix(best) for i in range(10000)]\n",
    "matrix_scores = [score_matrix(m) for m in matrix_corpus]"
   ]
  },
  {
   "cell_type": "code",
   "execution_count": 21,
   "metadata": {
    "scrolled": true
   },
   "outputs": [
    {
     "name": "stdout",
     "output_type": "stream",
     "text": [
      "79\n",
      "+----------------+\n",
      "| # ##           |\n",
      "| s       # #xxxe|\n",
      "| x          x   |\n",
      "| x ##  ##   x   |\n",
      "| x       #  x   |\n",
      "| xxxx #     x  #|\n",
      "|    xxxx   #x   |\n",
      "|       x ##xx # |\n",
      "|###  ##xxxxx #  |\n",
      "|#       ##x     |\n",
      "|   # ## #xx#    |\n",
      "|  # #  #xx#    #|\n",
      "|  # #   xx #    |\n",
      "|#  #    xx ##  #|\n",
      "|   # #  xx      |\n",
      "|    #    ##     |\n",
      "+----------------+\n"
     ]
    }
   ],
   "source": [
    "print(np.max(matrix_scores))\n",
    "best_mat = matrix_corpus[np.argmax(matrix_scores)]\n",
    "visualize_path(best_mat, get_paths(best_mat), GOALS[0], GOALS[len(GOALS) - 1])"
   ]
  },
  {
   "cell_type": "code",
   "execution_count": 22,
   "metadata": {},
   "outputs": [],
   "source": [
    "random.seed(4321)\n",
    "matrix_test_X = [generate_random_matrix(best) for i in range(2000)]\n",
    "matrix_test_y = [score_matrix(m) for m in matrix_test_X]"
   ]
  },
  {
   "cell_type": "code",
   "execution_count": 16,
   "metadata": {},
   "outputs": [
    {
     "name": "stdout",
     "output_type": "stream",
     "text": [
      "[0, 1, 0, 0]\n",
      "[0, 0, 1, 1]\n",
      "[1, 1, 0, 0]\n",
      "[0, 0, 1, 1]\n"
     ]
    },
    {
     "data": {
      "text/plain": [
       "[[1, 1, 0, 1, 1, 1, 1, 0, 1, 1, 0, 1, 1, 1, 1, 0],\n",
       " [0, 1, 0, 1, 1, 0, 1, 1, 1, 0, 1, 1, 1, 1, 1, 1],\n",
       " [1, 1, 1, 1, 0, 1, 0, 0, 1, 1, 0, 1, 0, 1, 0, 1],\n",
       " [1, 1, 0, 1, 0, 1, 1, 0, 0, 1, 0, 1, 0, 1, 1, 1],\n",
       " [1, 1, 1, 1, 1, 1, 1, 1, 1, 1, 0, 0, 1, 0, 1, 1],\n",
       " [1, 1, 1, 1, 1, 1, 1, 0, 1, 1, 0, 1, 1, 1, 1, 0],\n",
       " [1, 0, 1, 0, 1, 0, 1, 1, 1, 1, 0, 1, 0, 1, 1, 1],\n",
       " [1, 1, 1, 1, 1, 1, 1, 1, 0, 1, 1, 1, 1, 1, 1, 1],\n",
       " [1, 0, 1, 1, 1, 0, 1, 0, 1, 1, 1, 0, 1, 1, 1, 1],\n",
       " [1, 1, 1, 1, 1, 1, 1, 1, 1, 1, 0, 1, 1, 1, 1, 0],\n",
       " [1, 1, 1, 1, 0, 1, 1, 1, 0, 1, 0, 1, 1, 1, 1, 1],\n",
       " [1, 1, 1, 1, 1, 1, 1, 1, 1, 1, 1, 1, 1, 0, 1, 1],\n",
       " [0, 0, 1, 1, 1, 1, 1, 1, 1, 1, 1, 1, 0, 1, 1, 1],\n",
       " [1, 1, 1, 1, 1, 1, 1, 1, 1, 1, 0, 0, 0, 1, 1, 1],\n",
       " [1, 1, 1, 1, 0, 1, 1, 1, 1, 1, 1, 1, 1, 1, 1, 1],\n",
       " [0, 1, 1, 1, 0, 1, 1, 0, 1, 1, 0, 1, 1, 1, 1, 1]]"
      ]
     },
     "execution_count": 16,
     "metadata": {},
     "output_type": "execute_result"
    }
   ],
   "source": [
    "def get_collision_array(matrix, x, y):\n",
    "    if x < 0 or y < 0 or x >= WIDTH or y >= HEIGHT:\n",
    "        return 0\n",
    "    return matrix[y][x]\n",
    "\n",
    "def generate_collision_tensor(matrix):\n",
    "    return [[[ \\\n",
    "        get_collision_array(matrix, x-1, y), \\\n",
    "        get_collision_array(matrix, x+1, y), \\\n",
    "        get_collision_array(matrix, x, y-1), \\\n",
    "        get_collision_array(matrix, x, y+1) \\\n",
    "    ] for x in range(WIDTH)] for y in range(HEIGHT)]\n",
    "            \n",
    "test_collision = generate_collision_tensor(test_matrix)\n",
    "\n",
    "print(test_collision[0][0])\n",
    "print(test_collision[1][1])\n",
    "print(test_collision[2][2])\n",
    "print(test_collision[3][3])\n",
    "\n",
    "\n",
    "test_matrix"
   ]
  },
  {
   "cell_type": "code",
   "execution_count": 23,
   "metadata": {},
   "outputs": [],
   "source": [
    "matrix_train_col_X = [generate_collision_tensor(m) for m in matrix_corpus]\n",
    "matrix_test_col_X = [generate_collision_tensor(m) for m in matrix_test_X]"
   ]
  },
  {
   "cell_type": "code",
   "execution_count": 25,
   "metadata": {},
   "outputs": [],
   "source": [
    "file = open('train_X.data', 'wb')\n",
    "np.save(file, np.array(matrix_corpus))\n",
    "file.close()\n",
    "\n",
    "file = open('train_Y.data', 'wb')\n",
    "np.save(file, np.array(matrix_scores))\n",
    "file.close()\n",
    "\n",
    "file = open('test_X.data', 'wb')\n",
    "np.save(file, np.array(matrix_test_X))\n",
    "file.close()\n",
    "\n",
    "file = open('test_Y.data', 'wb')\n",
    "np.save(file, np.array(matrix_test_y))\n",
    "file.close()\n",
    "\n",
    "file = open('train_col_X.data', 'wb')\n",
    "np.save(file, np.array(matrix_train_col_X))\n",
    "file.close()\n",
    "\n",
    "file = open('test_col_X.data', 'wb')\n",
    "np.save(file, np.array(matrix_test_col_X))\n",
    "file.close()\n"
   ]
  }
 ],
 "metadata": {
  "kernelspec": {
   "display_name": "Python 3",
   "language": "python",
   "name": "python3"
  },
  "language_info": {
   "codemirror_mode": {
    "name": "ipython",
    "version": 3
   },
   "file_extension": ".py",
   "mimetype": "text/x-python",
   "name": "python",
   "nbconvert_exporter": "python",
   "pygments_lexer": "ipython3",
   "version": "3.8.5"
  }
 },
 "nbformat": 4,
 "nbformat_minor": 4
}
